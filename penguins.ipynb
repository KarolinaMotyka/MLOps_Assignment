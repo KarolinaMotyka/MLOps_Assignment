{
 "cells": [
  {
   "cell_type": "markdown",
   "metadata": {},
   "source": [
    "**Task 2**"
   ]
  },
  {
   "cell_type": "code",
   "execution_count": 2,
   "metadata": {},
   "outputs": [
    {
     "name": "stdout",
     "output_type": "stream",
     "text": [
      "<class 'pandas.core.frame.DataFrame'>\n",
      "Index: 333 entries, 0 to 343\n",
      "Data columns (total 7 columns):\n",
      " #   Column             Non-Null Count  Dtype  \n",
      "---  ------             --------------  -----  \n",
      " 0   species            333 non-null    object \n",
      " 1   island             333 non-null    object \n",
      " 2   bill_length_mm     333 non-null    float64\n",
      " 3   bill_depth_mm      333 non-null    float64\n",
      " 4   flipper_length_mm  333 non-null    float64\n",
      " 5   body_mass_g        333 non-null    float64\n",
      " 6   sex                333 non-null    object \n",
      "dtypes: float64(4), object(3)\n",
      "memory usage: 20.8+ KB\n"
     ]
    }
   ],
   "source": [
    "import seaborn as sns\n",
    "import sqlite3\n",
    "import pandas as pd\n",
    "\n",
    "# Load the penguins dataset\n",
    "penguins = sns.load_dataset(\"penguins\").dropna()\n",
    "penguins.info()\n"
   ]
  },
  {
   "cell_type": "code",
   "execution_count": 3,
   "metadata": {},
   "outputs": [
    {
     "name": "stdout",
     "output_type": "stream",
     "text": [
      "        name  island_id\n",
      "0  Torgersen          1\n",
      "1     Biscoe          2\n",
      "2      Dream          3\n",
      "   animal_id species  bill_length_mm  bill_depth_mm  flipper_length_mm  \\\n",
      "0          1  Adelie            39.1           18.7              181.0   \n",
      "1          2  Adelie            39.5           17.4              186.0   \n",
      "2          3  Adelie            40.3           18.0              195.0   \n",
      "3          4  Adelie            36.7           19.3              193.0   \n",
      "4          5  Adelie            39.3           20.6              190.0   \n",
      "\n",
      "   body_mass_g     sex  island_id  \n",
      "0       3750.0    Male          1  \n",
      "1       3800.0  Female          1  \n",
      "2       3250.0  Female          1  \n",
      "3       3450.0  Female          1  \n",
      "4       3650.0    Male          1  \n"
     ]
    }
   ],
   "source": [
    "# Create a unique numeric ID for each island, we go through each unique name of the island in the dataset and assign a unique number to this island name\n",
    "island_mapping = {name: idx+1 for idx, name in enumerate(penguins['island'].unique())}\n",
    "penguins['island_id'] = penguins['island'].map(island_mapping)\n",
    "\n",
    "# We do the same with penguins, we add a unique animal ID for each penguin \n",
    "penguins['animal_id'] = range(1, len(penguins) + 1)\n",
    "\n",
    "# Connect to SQLite database\n",
    "conn = sqlite3.connect('data/penguins.db')\n",
    "cursor = conn.cursor()\n",
    "\n",
    "# Enable foreign key constraints\n",
    "cursor.execute(\"PRAGMA foreign_keys = ON;\")\n",
    "\n",
    "# Create `Islands` table\n",
    "cursor.execute('''\n",
    "CREATE TABLE IF NOT EXISTS Islands (\n",
    "    island_id INTEGER PRIMARY KEY,\n",
    "    name TEXT UNIQUE\n",
    ")\n",
    "''')\n",
    "\n",
    "# Create `Penguins` table\n",
    "cursor.execute('''\n",
    "CREATE TABLE IF NOT EXISTS Penguins (\n",
    "    animal_id INTEGER PRIMARY KEY AUTOINCREMENT,\n",
    "    species TEXT,\n",
    "    bill_length_mm REAL,\n",
    "    bill_depth_mm REAL,\n",
    "    flipper_length_mm REAL,\n",
    "    body_mass_g REAL,\n",
    "    sex TEXT,\n",
    "    island_id INTEGER,\n",
    "    FOREIGN KEY (island_id) REFERENCES Islands(island_id)\n",
    ")\n",
    "''')\n",
    "\n",
    "# Insert island data into `Islands` table\n",
    "islands_df = pd.DataFrame(list(island_mapping.items()), columns=['name', 'island_id'])\n",
    "islands_df.to_sql('Islands', conn, if_exists='replace', index=False)\n",
    "\n",
    "# Insert penguin data into `Penguins` table\n",
    "penguins_selected = penguins[['animal_id', 'species', 'bill_length_mm', 'bill_depth_mm',\n",
    "                              'flipper_length_mm', 'body_mass_g', 'sex', 'island_id']]\n",
    "penguins_selected.to_sql('Penguins', conn, if_exists='replace', index=False)\n",
    "\n",
    "# Verify tables\n",
    "print(pd.read_sql(\"SELECT * FROM Islands;\", conn))\n",
    "print(pd.read_sql(\"SELECT * FROM Penguins LIMIT 5;\", conn))\n",
    "\n"
   ]
  },
  {
   "cell_type": "code",
   "execution_count": 4,
   "metadata": {},
   "outputs": [],
   "source": [
    "# Close connection\n",
    "conn.close()"
   ]
  }
 ],
 "metadata": {
  "kernelspec": {
   "display_name": "Python 3",
   "language": "python",
   "name": "python3"
  },
  "language_info": {
   "codemirror_mode": {
    "name": "ipython",
    "version": 3
   },
   "file_extension": ".py",
   "mimetype": "text/x-python",
   "name": "python",
   "nbconvert_exporter": "python",
   "pygments_lexer": "ipython3",
   "version": "3.10.16"
  }
 },
 "nbformat": 4,
 "nbformat_minor": 2
}
